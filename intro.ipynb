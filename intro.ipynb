{
 "cells": [
  {
   "cell_type": "markdown",
   "metadata": {},
   "source": [
    "## chart settings"
   ]
  },
  {
   "cell_type": "code",
   "execution_count": 60,
   "metadata": {},
   "outputs": [],
   "source": [
    "from pylab import plt\n",
    "plt.style.use('ggplot')\n",
    "import matplotlib as mpl\n",
    "mpl.rcParams['font.family'] = 'serif'"
   ]
  },
  {
   "cell_type": "markdown",
   "metadata": {},
   "source": [
    "## LaTeX reference\n",
    "https://jupyter-notebook.readthedocs.io/en/stable/examples/Notebook/Typesetting%20Equations.html\n",
    "https://stackoverflow.com/questions/13208286/how-to-write-latex-in-ipython-notebook/40866155#40866155 http://docs.sympy.org/latest/tutorial/printing.html\n",
    "http://web.ift.uib.no/Teori/KURS/WRK/TeX/symALL.html\n",
    "https://reu.dimacs.rutgers.edu/Symbols.pdf"
   ]
  },
  {
   "cell_type": "markdown",
   "metadata": {},
   "source": [
    "## Pricing call option with Monte Carlo sims"
   ]
  },
  {
   "cell_type": "code",
   "execution_count": 3,
   "metadata": {},
   "outputs": [
    {
     "name": "stdout",
     "output_type": "stream",
     "text": [
      "BSM option price\n"
     ]
    },
    {
     "data": {
      "text/latex": [
       "$$S_T(n) = S_0 e^{((r - 0.5 \\sigma^2) T + \\sigma z(n) \\sqrt T)}$$"
      ],
      "text/plain": [
       "<IPython.core.display.Math object>"
      ]
     },
     "metadata": {},
     "output_type": "display_data"
    },
    {
     "name": "stdout",
     "output_type": "stream",
     "text": [
      "or in vector notation\n"
     ]
    },
    {
     "data": {
      "text/latex": [
       "$$\\overline{S_T} = S_0 e^{((r - 0.5 \\sigma^2) T + \\sigma \\overline{z} \\sqrt T)}$$"
      ],
      "text/plain": [
       "<IPython.core.display.Math object>"
      ]
     },
     "metadata": {},
     "output_type": "display_data"
    },
    {
     "name": "stdout",
     "output_type": "stream",
     "text": [
      "where z is gaussian random variable\n"
     ]
    },
    {
     "data": {
      "text/latex": [
       "$$\\overline{z}=z(n), n \\in [1,...,N]$$"
      ],
      "text/plain": [
       "<IPython.core.display.Math object>"
      ]
     },
     "metadata": {},
     "output_type": "display_data"
    },
    {
     "name": "stdout",
     "output_type": "stream",
     "text": [
      "payoff\n"
     ]
    },
    {
     "data": {
      "text/latex": [
       "$$P_T(n)=max (S_T(n)-K, 0)$$"
      ],
      "text/plain": [
       "<IPython.core.display.Math object>"
      ]
     },
     "metadata": {},
     "output_type": "display_data"
    },
    {
     "data": {
      "text/latex": [
       "$$\\overline{P_T}=max (\\overline{S_T}-K, 0)$$"
      ],
      "text/plain": [
       "<IPython.core.display.Math object>"
      ]
     },
     "metadata": {},
     "output_type": "display_data"
    },
    {
     "name": "stdout",
     "output_type": "stream",
     "text": [
      "MC estimator\n"
     ]
    },
    {
     "data": {
      "text/latex": [
       "$$C= e^{-r T} \\frac{1}{N} \\sum_{n=1}^N P_T(n)$$"
      ],
      "text/plain": [
       "<IPython.core.display.Math object>"
      ]
     },
     "metadata": {},
     "output_type": "display_data"
    },
    {
     "data": {
      "text/latex": [
       "$$C= e^{-r T} \\frac{1}{N} \\sum \\overline{P_T}$$"
      ],
      "text/plain": [
       "<IPython.core.display.Math object>"
      ]
     },
     "metadata": {},
     "output_type": "display_data"
    },
    {
     "name": "stdout",
     "output_type": "stream",
     "text": [
      "i.e. PV of average payoff from sims\n"
     ]
    }
   ],
   "source": [
    "from IPython.display import display, Math, Latex\n",
    "print('BSM option price')\n",
    "display(Math(r'S_T(n) = S_0 e^{((r - 0.5 \\sigma^2) T + \\sigma z(n) \\sqrt T)}'))\n",
    "print('or in vector notation')\n",
    "display(Math(r'\\overline{S_T} = S_0 e^{((r - 0.5 \\sigma^2) T + \\sigma \\overline{z} \\sqrt T)}'))\n",
    "print('where z is gaussian random variable')\n",
    "display(Math(r'\\overline{z}=z(n), n \\in [1,...,N]'))\n",
    "print('payoff')\n",
    "display(Math(r'P_T(n)=max (S_T(n)-K, 0)'))\n",
    "display(Math(r'\\overline{P_T}=max (\\overline{S_T}-K, 0)'))\n",
    "print('MC estimator')\n",
    "display(Math(r'C= e^{-r T} \\frac{1}{N} \\sum_{n=1}^N P_T(n)'))\n",
    "display(Math(r'C= e^{-r T} \\frac{1}{N} \\sum \\overline{P_T}'))\n",
    "print('i.e. PV of average payoff from sims')"
   ]
  },
  {
   "cell_type": "markdown",
   "metadata": {},
   "source": [
    "going python"
   ]
  },
  {
   "cell_type": "markdown",
   "metadata": {},
   "source": [
    "constants"
   ]
  },
  {
   "cell_type": "code",
   "execution_count": 6,
   "metadata": {
    "uuid": "1447b7bb-ed26-4c0f-9e0f-222dfd5d0c9b"
   },
   "outputs": [],
   "source": [
    "S0 = 100.\n",
    "K = 105.\n",
    "T = 1.0\n",
    "r = 0.05\n",
    "sigma = 0.2"
   ]
  },
  {
   "cell_type": "code",
   "execution_count": 7,
   "metadata": {
    "uuid": "a95c7301-39f7-4d51-937a-334f051c2d9e"
   },
   "outputs": [
    {
     "name": "stdout",
     "output_type": "stream",
     "text": [
      "random component, z\n",
      "[ 1.90559637 -1.38007009  0.3444817  ...  0.21621266  0.33897455\n",
      " -0.21626065]\n",
      "vector length\n",
      "100000\n",
      "terminal stock values\n",
      "[153.89790991  79.77069187 112.62531644 ... 109.77279374 112.50133583\n",
      " 100.67706881]\n",
      "payoffs\n",
      "[48.89790991  0.          7.62531644 ...  4.77279374  7.50133583\n",
      "  0.        ]\n",
      "average payoff\n",
      "9.554584766726286\n",
      "PV\n",
      "9.088602168996333\n"
     ]
    }
   ],
   "source": [
    "from numpy import random, exp, sqrt, maximum, sum\n",
    "\n",
    "N = 100000\n",
    "\n",
    "#random.seed(1000)\n",
    "z = random.standard_normal(N)\n",
    "print('random component, z')\n",
    "print(z)\n",
    "print('vector length')\n",
    "print(len(z))\n",
    "ST = S0 * exp(r * T + sigma * sqrt(T) * z)\n",
    "print('terminal stock values')\n",
    "print(ST)\n",
    "PT = maximum(ST - K, 0)\n",
    "print('payoffs')\n",
    "print(PT)\n",
    "print('average payoff')\n",
    "print(sum(PT) / N)\n",
    "print('PV')\n",
    "C = exp(-r * T) * sum(PT) / N\n",
    "print(C)"
   ]
  },
  {
   "cell_type": "code",
   "execution_count": 8,
   "metadata": {
    "uuid": "84aab05d-40de-4ef1-b3a8-eb08f86e1662"
   },
   "outputs": [
    {
     "name": "stdout",
     "output_type": "stream",
     "text": [
      "Value of the European Call Option 9.089\n"
     ]
    }
   ],
   "source": [
    "print(\"Value of the European Call Option %5.3f\" % C)"
   ]
  },
  {
   "cell_type": "markdown",
   "metadata": {},
   "source": [
    "## Calculating historical volatility \n",
    "### (incl. Importing and plotting data)"
   ]
  },
  {
   "cell_type": "markdown",
   "metadata": {},
   "source": [
    "#### tr_eikon_eod_data.csv contains daily closing prices for some stocks,indices&fx for like 7y\n",
    "Date,AAPL.O,MSFT.O,INTC.O,AMZN.O,GS.N,SPY,.SPX,.VIX,EUR=,XAU=,GDX,GLD"
   ]
  },
  {
   "cell_type": "markdown",
   "metadata": {},
   "source": [
    "#### pkgs"
   ]
  },
  {
   "cell_type": "code",
   "execution_count": 62,
   "metadata": {},
   "outputs": [],
   "source": [
    "import numpy as np\n",
    "import pandas as pd"
   ]
  },
  {
   "cell_type": "markdown",
   "metadata": {},
   "source": [
    "#### importing data\n",
    "NB: for web imports pandas.io.data.DataReader could be used"
   ]
  },
  {
   "cell_type": "code",
   "execution_count": 63,
   "metadata": {
    "uuid": "22071d72-094b-4b51-aa39-cfa793d58623"
   },
   "outputs": [
    {
     "name": "stdout",
     "output_type": "stream",
     "text": [
      "               AAPL.O  MSFT.O  INTC.O  AMZN.O    GS.N     SPY     .SPX   .VIX  \\\n",
      "Date                                                                            \n",
      "2010-01-04  30.572827  30.950   20.88  133.90  173.08  113.33  1132.99  20.04   \n",
      "2010-01-05  30.625684  30.960   20.87  134.69  176.14  113.63  1136.52  19.35   \n",
      "2010-01-06  30.138541  30.770   20.80  132.25  174.26  113.71  1137.14  19.16   \n",
      "2010-01-07  30.082827  30.452   20.60  130.00  177.67  114.19  1141.69  19.06   \n",
      "2010-01-08  30.282827  30.660   20.83  133.52  174.31  114.57  1144.98  18.13   \n",
      "\n",
      "              EUR=     XAU=    GDX     GLD  \n",
      "Date                                        \n",
      "2010-01-04  1.4411  1120.00  47.71  109.80  \n",
      "2010-01-05  1.4368  1118.65  48.17  109.70  \n",
      "2010-01-06  1.4412  1138.50  49.34  111.51  \n",
      "2010-01-07  1.4318  1131.90  49.10  110.82  \n",
      "2010-01-08  1.4412  1136.10  49.84  111.37  \n",
      "length: 1972\n"
     ]
    }
   ],
   "source": [
    "quotes = pd.read_csv('resources/tr_eikon_eod_data.csv',\n",
    "                     index_col=0, \n",
    "                     parse_dates=True)\n",
    "\n",
    "print(quotes[0:5])\n",
    "print('length: {}'.format(len(quotes)))"
   ]
  },
  {
   "cell_type": "markdown",
   "metadata": {},
   "source": [
    "#### creating pandas dataframe"
   ]
  },
  {
   "cell_type": "code",
   "execution_count": 64,
   "metadata": {},
   "outputs": [
    {
     "name": "stdout",
     "output_type": "stream",
     "text": [
      "              AMZN.O\n",
      "Date                \n",
      "2010-01-04   133.900\n",
      "2010-01-05   134.690\n",
      "2010-01-06   132.250\n",
      "2010-01-07   130.000\n",
      "2010-01-08   133.520\n",
      "2010-01-11   130.308\n",
      "2010-01-12   127.350\n",
      "2010-01-13   129.110\n",
      "2010-01-14   127.350\n",
      "2010-01-15   127.140\n",
      "2010-01-19   127.610\n",
      "2010-01-20   125.780\n",
      "2010-01-21   126.620\n",
      "2010-01-22   121.430\n",
      "2010-01-25   120.310\n",
      "2010-01-26   119.480\n",
      "2010-01-27   122.750\n",
      "2010-01-28   126.030\n",
      "2010-01-29   125.410\n",
      "2010-02-01   118.870\n",
      "2010-02-02   118.120\n",
      "2010-02-03   119.100\n",
      "2010-02-04   115.940\n",
      "2010-02-05   117.390\n",
      "2010-02-08   116.830\n",
      "2010-02-09   118.030\n",
      "2010-02-10   117.360\n",
      "2010-02-11   120.090\n",
      "2010-02-12   119.660\n",
      "2010-02-16   117.530\n",
      "...              ...\n",
      "2017-09-20   973.210\n",
      "2017-09-21   964.650\n",
      "2017-09-22   955.100\n",
      "2017-09-25   939.790\n",
      "2017-09-26   938.600\n",
      "2017-09-27   950.870\n",
      "2017-09-28   956.400\n",
      "2017-09-29   961.350\n",
      "2017-10-02   959.190\n",
      "2017-10-03   957.100\n",
      "2017-10-04   965.450\n",
      "2017-10-05   980.850\n",
      "2017-10-06   989.580\n",
      "2017-10-09   990.990\n",
      "2017-10-10   987.200\n",
      "2017-10-11   995.000\n",
      "2017-10-12  1000.930\n",
      "2017-10-13  1002.940\n",
      "2017-10-16  1006.340\n",
      "2017-10-17  1009.130\n",
      "2017-10-18   997.000\n",
      "2017-10-19   986.610\n",
      "2017-10-20   982.910\n",
      "2017-10-23   966.300\n",
      "2017-10-24   975.900\n",
      "2017-10-25   972.910\n",
      "2017-10-26   972.430\n",
      "2017-10-27  1100.950\n",
      "2017-10-30  1110.850\n",
      "2017-10-31  1105.280\n",
      "\n",
      "[1972 rows x 1 columns]\n"
     ]
    }
   ],
   "source": [
    "amzn = pd.DataFrame(quotes['AMZN.O'])\n",
    "print(amzn)"
   ]
  },
  {
   "cell_type": "markdown",
   "metadata": {},
   "source": [
    "#### renaming column"
   ]
  },
  {
   "cell_type": "code",
   "execution_count": 65,
   "metadata": {},
   "outputs": [
    {
     "name": "stdout",
     "output_type": "stream",
     "text": [
      "               close\n",
      "Date                \n",
      "2010-01-04   133.900\n",
      "2010-01-05   134.690\n",
      "2010-01-06   132.250\n",
      "2010-01-07   130.000\n",
      "2010-01-08   133.520\n",
      "2010-01-11   130.308\n",
      "2010-01-12   127.350\n",
      "2010-01-13   129.110\n",
      "2010-01-14   127.350\n",
      "2010-01-15   127.140\n",
      "2010-01-19   127.610\n",
      "2010-01-20   125.780\n",
      "2010-01-21   126.620\n",
      "2010-01-22   121.430\n",
      "2010-01-25   120.310\n",
      "2010-01-26   119.480\n",
      "2010-01-27   122.750\n",
      "2010-01-28   126.030\n",
      "2010-01-29   125.410\n",
      "2010-02-01   118.870\n",
      "2010-02-02   118.120\n",
      "2010-02-03   119.100\n",
      "2010-02-04   115.940\n",
      "2010-02-05   117.390\n",
      "2010-02-08   116.830\n",
      "2010-02-09   118.030\n",
      "2010-02-10   117.360\n",
      "2010-02-11   120.090\n",
      "2010-02-12   119.660\n",
      "2010-02-16   117.530\n",
      "...              ...\n",
      "2017-09-20   973.210\n",
      "2017-09-21   964.650\n",
      "2017-09-22   955.100\n",
      "2017-09-25   939.790\n",
      "2017-09-26   938.600\n",
      "2017-09-27   950.870\n",
      "2017-09-28   956.400\n",
      "2017-09-29   961.350\n",
      "2017-10-02   959.190\n",
      "2017-10-03   957.100\n",
      "2017-10-04   965.450\n",
      "2017-10-05   980.850\n",
      "2017-10-06   989.580\n",
      "2017-10-09   990.990\n",
      "2017-10-10   987.200\n",
      "2017-10-11   995.000\n",
      "2017-10-12  1000.930\n",
      "2017-10-13  1002.940\n",
      "2017-10-16  1006.340\n",
      "2017-10-17  1009.130\n",
      "2017-10-18   997.000\n",
      "2017-10-19   986.610\n",
      "2017-10-20   982.910\n",
      "2017-10-23   966.300\n",
      "2017-10-24   975.900\n",
      "2017-10-25   972.910\n",
      "2017-10-26   972.430\n",
      "2017-10-27  1100.950\n",
      "2017-10-30  1110.850\n",
      "2017-10-31  1105.280\n",
      "\n",
      "[1972 rows x 1 columns]\n"
     ]
    }
   ],
   "source": [
    "amzn.columns = ['close']\n",
    "print(amzn)"
   ]
  },
  {
   "cell_type": "markdown",
   "metadata": {},
   "source": [
    "#### tail() for a glance view"
   ]
  },
  {
   "cell_type": "code",
   "execution_count": 66,
   "metadata": {},
   "outputs": [
    {
     "data": {
      "text/html": [
       "<div>\n",
       "<style scoped>\n",
       "    .dataframe tbody tr th:only-of-type {\n",
       "        vertical-align: middle;\n",
       "    }\n",
       "\n",
       "    .dataframe tbody tr th {\n",
       "        vertical-align: top;\n",
       "    }\n",
       "\n",
       "    .dataframe thead th {\n",
       "        text-align: right;\n",
       "    }\n",
       "</style>\n",
       "<table border=\"1\" class=\"dataframe\">\n",
       "  <thead>\n",
       "    <tr style=\"text-align: right;\">\n",
       "      <th></th>\n",
       "      <th>close</th>\n",
       "    </tr>\n",
       "    <tr>\n",
       "      <th>Date</th>\n",
       "      <th></th>\n",
       "    </tr>\n",
       "  </thead>\n",
       "  <tbody>\n",
       "    <tr>\n",
       "      <th>2017-10-25</th>\n",
       "      <td>972.91</td>\n",
       "    </tr>\n",
       "    <tr>\n",
       "      <th>2017-10-26</th>\n",
       "      <td>972.43</td>\n",
       "    </tr>\n",
       "    <tr>\n",
       "      <th>2017-10-27</th>\n",
       "      <td>1100.95</td>\n",
       "    </tr>\n",
       "    <tr>\n",
       "      <th>2017-10-30</th>\n",
       "      <td>1110.85</td>\n",
       "    </tr>\n",
       "    <tr>\n",
       "      <th>2017-10-31</th>\n",
       "      <td>1105.28</td>\n",
       "    </tr>\n",
       "  </tbody>\n",
       "</table>\n",
       "</div>"
      ],
      "text/plain": [
       "              close\n",
       "Date               \n",
       "2017-10-25   972.91\n",
       "2017-10-26   972.43\n",
       "2017-10-27  1100.95\n",
       "2017-10-30  1110.85\n",
       "2017-10-31  1105.28"
      ]
     },
     "execution_count": 66,
     "metadata": {},
     "output_type": "execute_result"
    }
   ],
   "source": [
    "amzn.tail()"
   ]
  },
  {
   "cell_type": "markdown",
   "metadata": {},
   "source": [
    "#### resolving log returns"
   ]
  },
  {
   "cell_type": "code",
   "execution_count": 67,
   "metadata": {
    "uuid": "304b2f50-5b81-4e88-8fa7-ea69995cf2fe"
   },
   "outputs": [
    {
     "data": {
      "text/html": [
       "<div>\n",
       "<style scoped>\n",
       "    .dataframe tbody tr th:only-of-type {\n",
       "        vertical-align: middle;\n",
       "    }\n",
       "\n",
       "    .dataframe tbody tr th {\n",
       "        vertical-align: top;\n",
       "    }\n",
       "\n",
       "    .dataframe thead th {\n",
       "        text-align: right;\n",
       "    }\n",
       "</style>\n",
       "<table border=\"1\" class=\"dataframe\">\n",
       "  <thead>\n",
       "    <tr style=\"text-align: right;\">\n",
       "      <th></th>\n",
       "      <th>close</th>\n",
       "      <th>logRet</th>\n",
       "    </tr>\n",
       "    <tr>\n",
       "      <th>Date</th>\n",
       "      <th></th>\n",
       "      <th></th>\n",
       "    </tr>\n",
       "  </thead>\n",
       "  <tbody>\n",
       "    <tr>\n",
       "      <th>2017-10-25</th>\n",
       "      <td>972.91</td>\n",
       "      <td>-0.003069</td>\n",
       "    </tr>\n",
       "    <tr>\n",
       "      <th>2017-10-26</th>\n",
       "      <td>972.43</td>\n",
       "      <td>-0.000493</td>\n",
       "    </tr>\n",
       "    <tr>\n",
       "      <th>2017-10-27</th>\n",
       "      <td>1100.95</td>\n",
       "      <td>0.124131</td>\n",
       "    </tr>\n",
       "    <tr>\n",
       "      <th>2017-10-30</th>\n",
       "      <td>1110.85</td>\n",
       "      <td>0.008952</td>\n",
       "    </tr>\n",
       "    <tr>\n",
       "      <th>2017-10-31</th>\n",
       "      <td>1105.28</td>\n",
       "      <td>-0.005027</td>\n",
       "    </tr>\n",
       "  </tbody>\n",
       "</table>\n",
       "</div>"
      ],
      "text/plain": [
       "              close    logRet\n",
       "Date                         \n",
       "2017-10-25   972.91 -0.003069\n",
       "2017-10-26   972.43 -0.000493\n",
       "2017-10-27  1100.95  0.124131\n",
       "2017-10-30  1110.85  0.008952\n",
       "2017-10-31  1105.28 -0.005027"
      ]
     },
     "execution_count": 67,
     "metadata": {},
     "output_type": "execute_result"
    }
   ],
   "source": [
    "amzn['logRet'] = np.log(amzn['close'] / amzn['close'].shift(1))\n",
    "amzn.tail()\n"
   ]
  },
  {
   "cell_type": "markdown",
   "metadata": {},
   "source": [
    "#### resolving historical volatility\n",
    "Mathematically, historical volatility is the standard deviation of returns\n",
    "Usually, its also meant to be annualized\n",
    "The following parametrization is entailed:\n",
    "1. discretization step\n",
    "2. sample size\n",
    "3. annualization basis\n",
    "\n",
    "Common conventions:\n",
    "1 = day, 21 = month, 63 = 3 months, 252 = year\n",
    "\n",
    "So\n",
    "1. we use daily discretization = daily closing price\n",
    "2. sample size is approx 1972\n",
    "3. annualization basis is 252 days\n"
   ]
  },
  {
   "cell_type": "code",
   "execution_count": 88,
   "metadata": {},
   "outputs": [
    {
     "name": "stdout",
     "output_type": "stream",
     "text": [
      "step 1: returns\n",
      "continuously compounded return is used normally\n"
     ]
    },
    {
     "data": {
      "text/latex": [
       "$$\\overline{r}=r(n)=ln\\frac{C_n}{C_{n-1}}$$"
      ],
      "text/plain": [
       "<IPython.core.display.Math object>"
      ]
     },
     "metadata": {},
     "output_type": "display_data"
    },
    {
     "data": {
      "text/latex": [
       "$$n\\in\\overline{1,N}, N=1972$$"
      ],
      "text/plain": [
       "<IPython.core.display.Math object>"
      ]
     },
     "metadata": {},
     "output_type": "display_data"
    },
    {
     "name": "stdout",
     "output_type": "stream",
     "text": [
      "r - return, continuously compounded\n",
      "C - closing price\n",
      "step 2: st dev of returns\n",
      "average return\n"
     ]
    },
    {
     "data": {
      "text/latex": [
       "$$E(\\overline{r})=\\frac{\\sum\\overline r}{N}$$"
      ],
      "text/plain": [
       "<IPython.core.display.Math object>"
      ]
     },
     "metadata": {},
     "output_type": "display_data"
    },
    {
     "name": "stdout",
     "output_type": "stream",
     "text": [
      "deviation squared\n"
     ]
    },
    {
     "data": {
      "text/latex": [
       "$$(\\overline{r} - E(\\overline{r}))^2$$"
      ],
      "text/plain": [
       "<IPython.core.display.Math object>"
      ]
     },
     "metadata": {},
     "output_type": "display_data"
    },
    {
     "name": "stdout",
     "output_type": "stream",
     "text": [
      "variance\n",
      "NB: N-1 for sample, not population, variance\n"
     ]
    },
    {
     "data": {
      "text/latex": [
       "$$\\sigma^2=\\frac{\\sum{(\\overline{r} - E(\\overline{r}))^2}}{N-1}$$"
      ],
      "text/plain": [
       "<IPython.core.display.Math object>"
      ]
     },
     "metadata": {},
     "output_type": "display_data"
    },
    {
     "name": "stdout",
     "output_type": "stream",
     "text": [
      "standard deviation\n"
     ]
    },
    {
     "data": {
      "text/latex": [
       "$$\\sigma=\\sqrt{\\sigma^2}$$"
      ],
      "text/plain": [
       "<IPython.core.display.Math object>"
      ]
     },
     "metadata": {},
     "output_type": "display_data"
    },
    {
     "name": "stdout",
     "output_type": "stream",
     "text": [
      "thats historical DAILY volatility\n",
      "step 3: annualizing\n",
      "applying square root law, refer to relevant materials on how volatility grows\n"
     ]
    },
    {
     "data": {
      "text/latex": [
       "$$\\sigma_T=\\sigma \\sqrt{T}$$"
      ],
      "text/plain": [
       "<IPython.core.display.Math object>"
      ]
     },
     "metadata": {},
     "output_type": "display_data"
    },
    {
     "name": "stdout",
     "output_type": "stream",
     "text": [
      "for use discretization step is 1 day, target period is 1 year, so T=252\n"
     ]
    }
   ],
   "source": [
    "from IPython.display import display, Math, Latex\n",
    "print('step 1: returns')\n",
    "print('continuously compounded return is used normally')\n",
    "display(Math(r'\\overline{r}=r(n)=ln\\frac{C_n}{C_{n-1}}'))\n",
    "display(Math(r'n\\in\\overline{1,N}, N=1972'))\n",
    "print('r - return, continuously compounded')\n",
    "print('C - closing price')\n",
    "print('step 2: st dev of returns')\n",
    "print('average return')\n",
    "display(Math(r'E(\\overline{r})=\\frac{\\sum\\overline r}{N}'))\n",
    "print('deviation squared')\n",
    "display(Math(r'(\\overline{r} - E(\\overline{r}))^2'))\n",
    "print('variance')\n",
    "print('NB: N-1 for sample, not population, variance')\n",
    "display(Math(r'\\sigma^2=\\frac{\\sum{(\\overline{r} - E(\\overline{r}))^2}}{N-1}'))\n",
    "print('standard deviation')\n",
    "display(Math(r'\\sigma=\\sqrt{\\sigma^2}'))\n",
    "print('thats historical DAILY volatility')\n",
    "print('step 3: annualizing')\n",
    "print('applying square root law, refer to relevant materials on how volatility grows')\n",
    "display(Math(r'\\sigma_T=\\sigma \\sqrt{T}'))\n",
    "print('for use discretization step is 1 day, target period is 1 year, so T=252')"
   ]
  },
  {
   "cell_type": "markdown",
   "metadata": {},
   "source": [
    "With pandas we make use of built in standard deviation function std() along with rolling() to, well, roll"
   ]
  },
  {
   "cell_type": "code",
   "execution_count": 92,
   "metadata": {},
   "outputs": [
    {
     "name": "stdout",
     "output_type": "stream",
     "text": [
      "               close    logRet       vol\n",
      "Date                                    \n",
      "2010-01-04   133.900       NaN       NaN\n",
      "2010-01-05   134.690  0.005883       NaN\n",
      "2010-01-06   132.250 -0.018282       NaN\n",
      "2010-01-07   130.000 -0.017160       NaN\n",
      "2010-01-08   133.520  0.026717       NaN\n",
      "2010-01-11   130.308 -0.024350       NaN\n",
      "2010-01-12   127.350 -0.022962       NaN\n",
      "2010-01-13   129.110  0.013726       NaN\n",
      "2010-01-14   127.350 -0.013726       NaN\n",
      "2010-01-15   127.140 -0.001650       NaN\n",
      "2010-01-19   127.610  0.003690       NaN\n",
      "2010-01-20   125.780 -0.014444       NaN\n",
      "2010-01-21   126.620  0.006656       NaN\n",
      "2010-01-22   121.430 -0.041853       NaN\n",
      "2010-01-25   120.310 -0.009266       NaN\n",
      "2010-01-26   119.480 -0.006923       NaN\n",
      "2010-01-27   122.750  0.027001       NaN\n",
      "2010-01-28   126.030  0.026370       NaN\n",
      "2010-01-29   125.410 -0.004932       NaN\n",
      "2010-02-01   118.870 -0.053558       NaN\n",
      "2010-02-02   118.120 -0.006329       NaN\n",
      "2010-02-03   119.100  0.008262       NaN\n",
      "2010-02-04   115.940 -0.026891       NaN\n",
      "2010-02-05   117.390  0.012429       NaN\n",
      "2010-02-08   116.830 -0.004782       NaN\n",
      "2010-02-09   118.030  0.010219       NaN\n",
      "2010-02-10   117.360 -0.005693       NaN\n",
      "2010-02-11   120.090  0.022995       NaN\n",
      "2010-02-12   119.660 -0.003587       NaN\n",
      "2010-02-16   117.530 -0.017961       NaN\n",
      "...              ...       ...       ...\n",
      "2017-09-20   973.210  0.003448  0.192294\n",
      "2017-09-21   964.650 -0.008835  0.192206\n",
      "2017-09-22   955.100 -0.009949  0.191654\n",
      "2017-09-25   939.790 -0.016160  0.192391\n",
      "2017-09-26   938.600 -0.001267  0.192197\n",
      "2017-09-27   950.870  0.012988  0.191512\n",
      "2017-09-28   956.400  0.005799  0.191012\n",
      "2017-09-29   961.350  0.005162  0.191067\n",
      "2017-10-02   959.190 -0.002249  0.190858\n",
      "2017-10-03   957.100 -0.002181  0.190874\n",
      "2017-10-04   965.450  0.008686  0.191010\n",
      "2017-10-05   980.850  0.015825  0.191259\n",
      "2017-10-06   989.580  0.008861  0.191398\n",
      "2017-10-09   990.990  0.001424  0.191371\n",
      "2017-10-10   987.200 -0.003832  0.191413\n",
      "2017-10-11   995.000  0.007870  0.191072\n",
      "2017-10-12  1000.930  0.005942  0.191120\n",
      "2017-10-13  1002.940  0.002006  0.191012\n",
      "2017-10-16  1006.340  0.003384  0.190844\n",
      "2017-10-17  1009.130  0.002769  0.190404\n",
      "2017-10-18   997.000 -0.012093  0.190779\n",
      "2017-10-19   986.610 -0.010476  0.191110\n",
      "2017-10-20   982.910 -0.003757  0.190910\n",
      "2017-10-23   966.300 -0.017043  0.191479\n",
      "2017-10-24   975.900  0.009886  0.190382\n",
      "2017-10-25   972.910 -0.003069  0.190374\n",
      "2017-10-26   972.430 -0.000493  0.189716\n",
      "2017-10-27  1100.950  0.124131  0.226266\n",
      "2017-10-30  1110.850  0.008952  0.219826\n",
      "2017-10-31  1105.280 -0.005027  0.219344\n",
      "\n",
      "[1972 rows x 3 columns]\n"
     ]
    }
   ],
   "source": [
    "amzn['vol'] = amzn['logRet'].rolling(window=252).std() * np.sqrt(252)\n",
    "print(amzn)"
   ]
  },
  {
   "cell_type": "code",
   "execution_count": 94,
   "metadata": {
    "uuid": "b4e61939-c7fe-4a1e-a8c9-6fd755edcf86"
   },
   "outputs": [
    {
     "data": {
      "image/png": "[encoded data removed]",
      "text/plain": [
       "<Figure size 576x432 with 3 Axes>"
      ]
     },
     "metadata": {},
     "output_type": "display_data"
    }
   ],
   "source": [
    "%matplotlib inline\n",
    "amzn[['close', 'logRet', 'vol']].plot(subplots=True, \n",
    "                                      color='blue',\n",
    "                                      figsize=(8, 6), \n",
    "                                      grid=True);"
   ]
  },
  {
   "cell_type": "markdown",
   "metadata": {},
   "source": [
    "## Performance\n",
    "\n",
    "Showcase of effects of different approaches on performance.\n",
    "Other ways of performance improvements, compiling and compiling and parallelization, will be reviewed later."
   ]
  },
  {
   "cell_type": "markdown",
   "metadata": {},
   "source": [
    "#### vanilla loop"
   ]
  },
  {
   "cell_type": "code",
   "execution_count": 2,
   "metadata": {
    "uuid": "beca497d-4c20-4240-b003-4c79c26154be"
   },
   "outputs": [
    {
     "name": "stdout",
     "output_type": "stream",
     "text": [
      "2.1 s ± 120 ms per loop (mean ± std. dev. of 7 runs, 1 loop each)\n"
     ]
    }
   ],
   "source": [
    "number_of_loops = 2500000\n",
    "from math import *\n",
    "iterations = range(1, number_of_loops)\n",
    "def foo(x):\n",
    "    return 3 * log(x) + cos(x) ** 2\n",
    "%timeit r = [foo(x) for x in iterations]"
   ]
  },
  {
   "cell_type": "markdown",
   "metadata": {},
   "source": [
    "#### numpy (vectorized)"
   ]
  },
  {
   "cell_type": "code",
   "execution_count": 3,
   "metadata": {
    "uuid": "931fd1fc-cc54-4045-802f-acb8f094a23f"
   },
   "outputs": [
    {
     "name": "stdout",
     "output_type": "stream",
     "text": [
      "124 ms ± 5.55 ms per loop (mean ± std. dev. of 7 runs, 10 loops each)\n"
     ]
    }
   ],
   "source": [
    "import numpy as np\n",
    "iterations = np.arange(1, number_of_loops)\n",
    "%timeit r = 3 * np.log(iterations) + np.cos(iterations) ** 2"
   ]
  },
  {
   "cell_type": "markdown",
   "metadata": {},
   "source": [
    "#### numpy + numexpr"
   ]
  },
  {
   "cell_type": "code",
   "execution_count": 4,
   "metadata": {
    "uuid": "8d1602b3-a490-4d1a-97d9-112825d86185"
   },
   "outputs": [
    {
     "name": "stdout",
     "output_type": "stream",
     "text": [
      "97.8 ms ± 4.81 ms per loop (mean ± std. dev. of 7 runs, 10 loops each)\n"
     ]
    }
   ],
   "source": [
    "import numexpr as ne\n",
    "ne.set_num_threads(1)\n",
    "f = '3 * log(iterations) + cos(iterations) ** 2'\n",
    "%timeit r = ne.evaluate(f)"
   ]
  },
  {
   "cell_type": "markdown",
   "metadata": {},
   "source": [
    "#### numpy+numexpr+multi-threaded"
   ]
  },
  {
   "cell_type": "code",
   "execution_count": 5,
   "metadata": {
    "uuid": "6994f16a-1802-4abe-851d-a48e0ead154d"
   },
   "outputs": [
    {
     "name": "stdout",
     "output_type": "stream",
     "text": [
      "44.3 ms ± 2.2 ms per loop (mean ± std. dev. of 7 runs, 10 loops each)\n"
     ]
    }
   ],
   "source": [
    "ne.set_num_threads(4)\n",
    "%timeit r = ne.evaluate(f)"
   ]
  },
  {
   "cell_type": "markdown",
   "metadata": {},
   "source": [
    "NB: use %lsmagic or %magic to get all magic cmds\n",
    "Most useful could be %time, %prun"
   ]
  }
 ],
 "metadata": {
  "anaconda-cloud": {},
  "kernelspec": {
   "display_name": "Python 3",
   "language": "python",
   "name": "python3"
  },
  "language_info": {
   "codemirror_mode": {
    "name": "ipython",
    "version": 3
   },
   "file_extension": ".py",
   "mimetype": "text/x-python",
   "name": "python",
   "nbconvert_exporter": "python",
   "pygments_lexer": "ipython3",
   "version": "3.6.2"
  }
 },
 "nbformat": 4,
 "nbformat_minor": 1
}
